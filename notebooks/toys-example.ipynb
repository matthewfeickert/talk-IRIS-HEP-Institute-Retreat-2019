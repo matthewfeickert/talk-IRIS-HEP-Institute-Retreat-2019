{
 "cells": [
  {
   "cell_type": "code",
   "execution_count": 1,
   "metadata": {},
   "outputs": [],
   "source": [
    "import pyhf\n",
    "import numpy as np\n",
    "import matplotlib.pyplot as plt\n",
    "\n",
    "import getpass\n",
    "from matplotlib import rcParams"
   ]
  },
  {
   "cell_type": "code",
   "execution_count": 2,
   "metadata": {},
   "outputs": [],
   "source": [
    "np.random.seed(0)\n",
    "rcParams.update({'figure.autolayout': True})"
   ]
  },
  {
   "cell_type": "code",
   "execution_count": 3,
   "metadata": {},
   "outputs": [],
   "source": [
    "model = pyhf.simplemodels.hepdata_like([6], [9], [np.sqrt(9)])\n",
    "\n",
    "signal_pars = model.config.suggested_init()\n",
    "signal_pars[model.config.poi_index] = 1.0\n",
    "\n",
    "bkg_pars = model.config.suggested_init()\n",
    "bkg_pars[model.config.poi_index] = 0.0\n",
    "\n",
    "signal_pdf = model.make_pdf(signal_pars)\n",
    "bkg_pdf = model.make_pdf(bkg_pars)\n",
    "\n",
    "# protect against limited resources on Binder\n",
    "sample_size = 2000 if getpass.getuser() == \"jovyan\" else 10000\n",
    "sample_shape = (sample_size,)\n",
    "\n",
    "signal_sample = signal_pdf.sample(sample_shape)\n",
    "bkg_sample = bkg_pdf.sample(sample_shape)"
   ]
  },
  {
   "cell_type": "code",
   "execution_count": 4,
   "metadata": {},
   "outputs": [],
   "source": [
    "def q_mu_tilde(poi_test, data, pdf):\n",
    "    return pyhf.utils.hypotest(\n",
    "        poi_test, data, pdf, qtilde=True, return_test_statistics=True\n",
    "    )[1][0]"
   ]
  },
  {
   "cell_type": "code",
   "execution_count": 5,
   "metadata": {},
   "outputs": [],
   "source": [
    "signal_qtilde = np.asarray([q_mu_tilde(1.0, sample, model) for sample in signal_sample])\n",
    "bkg_qtilde = np.asarray([q_mu_tilde(1.0, sample, model) for sample in bkg_sample])"
   ]
  },
  {
   "cell_type": "code",
   "execution_count": 6,
   "metadata": {
    "scrolled": false
   },
   "outputs": [
    {
     "data": {
      "image/png": "[encoded data removed]",
      "text/plain": [
       "<Figure size 360x360 with 1 Axes>"
      ]
     },
     "metadata": {
      "needs_background": "light"
     },
     "output_type": "display_data"
    }
   ],
   "source": [
    "fig, ax = plt.subplots(figsize=(5, 5))\n",
    "\n",
    "ax.hist(\n",
    "    signal_qtilde,\n",
    "    bins=np.linspace(0, 10, 26),\n",
    "    histtype=\"step\",\n",
    "    density=True,\n",
    "    linestyle=\"dashed\",\n",
    "    label=r\"$f\\,(\\tilde{q}_1|1)$\",\n",
    ")\n",
    "ax.hist(\n",
    "    bkg_qtilde,\n",
    "    bins=np.linspace(0, 10, 26),\n",
    "    histtype=\"step\",\n",
    "    density=True,\n",
    "    label=r\"$f\\,(\\tilde{q}_1|0)$\",\n",
    ")\n",
    "\n",
    "ax.set_xlim(0, 9)\n",
    "ax.set_ylim(1e-3, 2)\n",
    "ax.semilogy()\n",
    "ax.set_xlabel(r\"$\\tilde{q}_1$\", fontsize=20)\n",
    "ax.set_ylabel(r\"$f\\,(\\tilde{q}_1|\\theta)$\", fontsize=20)\n",
    "ax.legend(loc=\"best\", fontsize=14);\n",
    "\n",
    "fig.savefig(\"alternative_statistic.pdf\")\n",
    "fig.savefig(\"alternative_statistic.png\")"
   ]
  }
 ],
 "metadata": {
  "kernelspec": {
   "display_name": "Python 3",
   "language": "python",
   "name": "python3"
  },
  "language_info": {
   "codemirror_mode": {
    "name": "ipython",
    "version": 3
   },
   "file_extension": ".py",
   "mimetype": "text/x-python",
   "name": "python",
   "nbconvert_exporter": "python",
   "pygments_lexer": "ipython3",
   "version": "3.7.3"
  }
 },
 "nbformat": 4,
 "nbformat_minor": 2
}
