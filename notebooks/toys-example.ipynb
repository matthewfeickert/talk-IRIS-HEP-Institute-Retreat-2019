{
 "cells": [
  {
   "cell_type": "code",
   "execution_count": 1,
   "metadata": {},
   "outputs": [],
   "source": [
    "import pyhf\n",
    "import numpy as np\n",
    "import matplotlib.pyplot as plt"
   ]
  },
  {
   "cell_type": "code",
   "execution_count": 2,
   "metadata": {},
   "outputs": [],
   "source": [
    "np.random.seed(0)"
   ]
  },
  {
   "cell_type": "code",
   "execution_count": 3,
   "metadata": {},
   "outputs": [],
   "source": [
    "model = pyhf.simplemodels.hepdata_like([6], [9], [np.sqrt(9)])\n",
    "\n",
    "signal_pars = model.config.suggested_init()\n",
    "signal_pars[model.config.poi_index] = 1.0\n",
    "\n",
    "bkg_pars = model.config.suggested_init()\n",
    "bkg_pars[model.config.poi_index] = 0.0\n",
    "\n",
    "signal_pdf = model.make_pdf(signal_pars)\n",
    "bkg_pdf = model.make_pdf(bkg_pars)\n",
    "\n",
    "sample_shape = (1000,)\n",
    "\n",
    "signal_sample = signal_pdf.sample(sample_shape)\n",
    "bkg_sample = bkg_pdf.sample(sample_shape)"
   ]
  },
  {
   "cell_type": "code",
   "execution_count": 4,
   "metadata": {},
   "outputs": [],
   "source": [
    "signal_tests = np.asarray([pyhf.utils.hypotest(1.0, sample, model, return_test_statistics=True)[1][0]\n",
    "                           for sample in signal_sample])\n",
    "bkg_tests = np.asarray([pyhf.utils.hypotest(1.0, sample, model, return_test_statistics=True)[1][0]\n",
    "                        for sample in bkg_sample])\n",
    "\n",
    "# signal_tests = np.asarray([pyhf.utils.qmu(1.0, sample, model, None, None) for sample in signal_sample])\n",
    "# bkg_tests = np.asarray([pyhf.utils.qmu(1.0, sample, model, None, None) for sample in bkg_sample])"
   ]
  },
  {
   "cell_type": "code",
   "execution_count": 5,
   "metadata": {},
   "outputs": [
    {
     "data": {
      "image/png": "[encoded data removed]",
      "text/plain": [
       "<Figure size 360x360 with 1 Axes>"
      ]
     },
     "metadata": {
      "needs_background": "light"
     },
     "output_type": "display_data"
    }
   ],
   "source": [
    "_, b, _ = plt.hist(signal_tests, bins=np.linspace(0, 10, 26), histtype=\"step\", density=True)\n",
    "_, b, _ = plt.hist(bkg_tests, bins=np.linspace(0, 10, 26), histtype=\"step\", density=True)\n",
    "\n",
    "_fontsize=20\n",
    "\n",
    "plt.gcf().set_size_inches(5,5)\n",
    "plt.xlim(0, 9)\n",
    "plt.ylim(1e-3, 2)\n",
    "plt.semilogy()\n",
    "plt.xlabel(r\"$\\tilde{q}_1$\", fontsize=_fontsize)\n",
    "plt.ylabel(\"Normalized units\", fontsize=_fontsize);"
   ]
  }
 ],
 "metadata": {
  "kernelspec": {
   "display_name": "Python 3",
   "language": "python",
   "name": "python3"
  },
  "language_info": {
   "codemirror_mode": {
    "name": "ipython",
    "version": 3
   },
   "file_extension": ".py",
   "mimetype": "text/x-python",
   "name": "python",
   "nbconvert_exporter": "python",
   "pygments_lexer": "ipython3",
   "version": "3.7.3"
  }
 },
 "nbformat": 4,
 "nbformat_minor": 2
}
